{
 "cells": [
  {
   "cell_type": "code",
   "execution_count": 3,
   "id": "7f9c521c-d437-4131-85db-7a1b9116472f",
   "metadata": {},
   "outputs": [
    {
     "name": "stdout",
     "output_type": "stream",
     "text": [
      "Collecting numpy\n",
      "  Using cached numpy-2.3.2-cp313-cp313-win_amd64.whl.metadata (60 kB)\n",
      "Using cached numpy-2.3.2-cp313-cp313-win_amd64.whl (12.8 MB)\n",
      "Installing collected packages: numpy\n",
      "Successfully installed numpy-2.3.2\n"
     ]
    }
   ],
   "source": [
    "!pip install numpy"
   ]
  },
  {
   "cell_type": "code",
   "execution_count": 4,
   "id": "15fee869-974d-49ed-8ca8-66d65acd6668",
   "metadata": {},
   "outputs": [],
   "source": [
    "import numpy as np"
   ]
  },
  {
   "cell_type": "code",
   "execution_count": 6,
   "id": "2c3b717d-c41e-40fb-96b2-a4efac175df5",
   "metadata": {},
   "outputs": [
    {
     "name": "stdout",
     "output_type": "stream",
     "text": [
      "[2 3 4]\n"
     ]
    }
   ],
   "source": [
    "arr= np.array([2,3,4])\n",
    "print(arr)"
   ]
  },
  {
   "cell_type": "markdown",
   "id": "4a2b6ef3-0cd4-48c8-98a9-47744971ced5",
   "metadata": {},
   "source": [
    "type(arr)"
   ]
  },
  {
   "cell_type": "markdown",
   "id": "6d328fd1-0534-43b0-80d0-da581e2a3c4f",
   "metadata": {},
   "source": [
    "2d array"
   ]
  },
  {
   "cell_type": "code",
   "execution_count": 9,
   "id": "9317c35b-f368-4675-a201-8e732224f0c2",
   "metadata": {},
   "outputs": [
    {
     "name": "stdout",
     "output_type": "stream",
     "text": [
      "[[1 2 3]\n",
      " [4 5 6]]\n"
     ]
    }
   ],
   "source": [
    "arr1=np.array([[1,2,3],[4,5,6]])\n",
    "print(arr1)"
   ]
  },
  {
   "cell_type": "code",
   "execution_count": 19,
   "id": "3ecc7065-6a90-4518-b9ba-37806020d2e0",
   "metadata": {},
   "outputs": [
    {
     "data": {
      "text/plain": [
       "array([[0., 0.],\n",
       "       [0., 0.]])"
      ]
     },
     "execution_count": 19,
     "metadata": {},
     "output_type": "execute_result"
    }
   ],
   "source": [
    "np.zeros((2,2))\n",
    "\n",
    "\n"
   ]
  },
  {
   "cell_type": "code",
   "execution_count": 16,
   "id": "5f2d90ef-f769-46f8-be72-19f7d5c2a5c0",
   "metadata": {},
   "outputs": [
    {
     "data": {
      "text/plain": [
       "array([[1., 1., 1.],\n",
       "       [1., 1., 1.],\n",
       "       [1., 1., 1.]])"
      ]
     },
     "execution_count": 16,
     "metadata": {},
     "output_type": "execute_result"
    }
   ],
   "source": [
    "np.ones((3,3))"
   ]
  },
  {
   "cell_type": "code",
   "execution_count": 17,
   "id": "fa941c9d-faa1-4ac0-ac2e-76b8393a7df1",
   "metadata": {},
   "outputs": [
    {
     "data": {
      "text/plain": [
       "array([[1., 0., 0., 0., 0.],\n",
       "       [0., 1., 0., 0., 0.],\n",
       "       [0., 0., 1., 0., 0.],\n",
       "       [0., 0., 0., 1., 0.],\n",
       "       [0., 0., 0., 0., 1.]])"
      ]
     },
     "execution_count": 17,
     "metadata": {},
     "output_type": "execute_result"
    }
   ],
   "source": [
    "np.eye((5))"
   ]
  },
  {
   "cell_type": "code",
   "execution_count": 18,
   "id": "a7a6fef2-f63f-4f8e-b1fb-7119d98fcc52",
   "metadata": {},
   "outputs": [
    {
     "data": {
      "text/plain": [
       "array([[8, 8, 8],\n",
       "       [8, 8, 8],\n",
       "       [8, 8, 8]])"
      ]
     },
     "execution_count": 18,
     "metadata": {},
     "output_type": "execute_result"
    }
   ],
   "source": [
    "np.full((3,3),8)"
   ]
  },
  {
   "cell_type": "markdown",
   "id": "22a9dbd5-e4c3-493e-86ad-c751851b9c46",
   "metadata": {},
   "source": [
    "creating an array in given range with a same diference "
   ]
  },
  {
   "cell_type": "code",
   "execution_count": 23,
   "id": "1629349d-2158-4a8b-bf1c-11fddcf76c9c",
   "metadata": {},
   "outputs": [
    {
     "data": {
      "text/plain": [
       "array([1, 3, 5, 7, 9])"
      ]
     },
     "execution_count": 23,
     "metadata": {},
     "output_type": "execute_result"
    }
   ],
   "source": [
    "np.arange(1,10,2)"
   ]
  },
  {
   "cell_type": "code",
   "execution_count": 24,
   "id": "c7d6185c-e72f-46a7-93dd-6a960c59ab9a",
   "metadata": {},
   "outputs": [
    {
     "data": {
      "text/plain": [
       "array([ 1,  6, 11, 16, 21, 26, 31, 36, 41, 46])"
      ]
     },
     "execution_count": 24,
     "metadata": {},
     "output_type": "execute_result"
    }
   ],
   "source": [
    "np.arange(1,50,5)"
   ]
  },
  {
   "cell_type": "markdown",
   "id": "03173619-a76d-48f9-897d-2e0677b82ba9",
   "metadata": {},
   "source": [
    "to get a lenear space array "
   ]
  },
  {
   "cell_type": "code",
   "execution_count": 30,
   "id": "4365b23f-13d0-4d8e-8b0d-6576bac2698d",
   "metadata": {},
   "outputs": [
    {
     "data": {
      "text/plain": [
       "array([ 1. ,  5.5, 10. ])"
      ]
     },
     "execution_count": 30,
     "metadata": {},
     "output_type": "execute_result"
    }
   ],
   "source": [
    "np.linspace(1,10,3) #the diference betn the term will be equal and 3 represents the total number of terms \n"
   ]
  },
  {
   "cell_type": "markdown",
   "id": "8d44eda6-a2ad-438a-bc88-7c3badbcce51",
   "metadata": {},
   "source": [
    "reshaping of an array"
   ]
  },
  {
   "cell_type": "code",
   "execution_count": 32,
   "id": "7623adc5-8835-4ba5-8817-db509417db36",
   "metadata": {},
   "outputs": [
    {
     "data": {
      "text/plain": [
       "array([[1, 2],\n",
       "       [3, 4],\n",
       "       [5, 6]])"
      ]
     },
     "execution_count": 32,
     "metadata": {},
     "output_type": "execute_result"
    }
   ],
   "source": [
    "arr2= np.array([[1,2,3],[4,5,6]])\n",
    "arr2.reshape(3,2)"
   ]
  },
  {
   "cell_type": "markdown",
   "id": "9602cee5-9db8-4214-a771-247f5b2b281f",
   "metadata": {},
   "source": [
    "To make the array one d again"
   ]
  },
  {
   "cell_type": "code",
   "execution_count": 34,
   "id": "af615318-943b-484c-9445-bcdfec79889c",
   "metadata": {},
   "outputs": [
    {
     "data": {
      "text/plain": [
       "array([1, 2, 3, 4, 5, 6])"
      ]
     },
     "execution_count": 34,
     "metadata": {},
     "output_type": "execute_result"
    }
   ],
   "source": [
    "arr2.flatten()"
   ]
  },
  {
   "cell_type": "markdown",
   "id": "52f44497-ff8e-4c33-b0be-3389dbef63e4",
   "metadata": {},
   "source": [
    "Array slicing "
   ]
  },
  {
   "cell_type": "code",
   "execution_count": 39,
   "id": "d2011ec1-a316-4f4d-b4dd-75246d492ce0",
   "metadata": {},
   "outputs": [
    {
     "name": "stdout",
     "output_type": "stream",
     "text": [
      "[0 1 2 3 4 5 6 7 8 9]\n"
     ]
    }
   ],
   "source": [
    "ar=np.arange(10)\n",
    "print(ar)"
   ]
  },
  {
   "cell_type": "code",
   "execution_count": 38,
   "id": "096ee5d0-76bf-4ed2-ac32-272a21d254ca",
   "metadata": {},
   "outputs": [
    {
     "data": {
      "text/plain": [
       "array([3, 4, 5])"
      ]
     },
     "execution_count": 38,
     "metadata": {},
     "output_type": "execute_result"
    }
   ],
   "source": [
    "ar[3:6]"
   ]
  },
  {
   "cell_type": "code",
   "execution_count": 40,
   "id": "e6ad4430-e249-4706-a2b6-2a7b0a04984b",
   "metadata": {},
   "outputs": [
    {
     "data": {
      "text/plain": [
       "array([0, 1, 2, 3, 4])"
      ]
     },
     "execution_count": 40,
     "metadata": {},
     "output_type": "execute_result"
    }
   ],
   "source": [
    "ar[:5]"
   ]
  },
  {
   "cell_type": "code",
   "execution_count": 41,
   "id": "edd0a378-55b9-4cf0-a83d-9717c606fb7e",
   "metadata": {},
   "outputs": [
    {
     "data": {
      "text/plain": [
       "array([4, 5, 6, 7, 8, 9])"
      ]
     },
     "execution_count": 41,
     "metadata": {},
     "output_type": "execute_result"
    }
   ],
   "source": [
    "ar[4:]"
   ]
  },
  {
   "cell_type": "code",
   "execution_count": 45,
   "id": "8730b182-4cc2-4e3b-9f2e-0fb648c0534a",
   "metadata": {},
   "outputs": [
    {
     "data": {
      "text/plain": [
       "array([9, 8, 7, 6, 5, 4, 3, 2, 1, 0])"
      ]
     },
     "execution_count": 45,
     "metadata": {},
     "output_type": "execute_result"
    }
   ],
   "source": [
    "ar[::-1]  #to reverse the array "
   ]
  },
  {
   "cell_type": "code",
   "execution_count": 49,
   "id": "ea5b0784-1cca-42eb-8449-ecf49bb9b627",
   "metadata": {},
   "outputs": [
    {
     "name": "stdout",
     "output_type": "stream",
     "text": [
      "[4]\n",
      "[array([2, 4])]\n"
     ]
    }
   ],
   "source": [
    "print(arr[2:4])\n",
    "print([arr[::2]])#means every second element "
   ]
  },
  {
   "cell_type": "code",
   "execution_count": 54,
   "id": "6dd1506e-f931-4aac-acdc-5b288bcbd350",
   "metadata": {},
   "outputs": [
    {
     "name": "stdout",
     "output_type": "stream",
     "text": [
      "[False False False False  True  True  True  True  True  True]\n"
     ]
    }
   ],
   "source": [
    "arr3=np.arange(10) #to print number which are greater than index 3\n",
    "print(arr3>3)\n"
   ]
  },
  {
   "cell_type": "code",
   "execution_count": 57,
   "id": "be6f71f7-07bc-4f19-ae11-f8ad77630849",
   "metadata": {},
   "outputs": [
    {
     "data": {
      "text/plain": [
       "array([4, 5, 6, 7, 8, 9])"
      ]
     },
     "execution_count": 57,
     "metadata": {},
     "output_type": "execute_result"
    }
   ],
   "source": [
    "arr3[arr3>3] #to print number greater than 3"
   ]
  }
 ],
 "metadata": {
  "kernelspec": {
   "display_name": "Python 3 (ipykernel)",
   "language": "python",
   "name": "python3"
  },
  "language_info": {
   "codemirror_mode": {
    "name": "ipython",
    "version": 3
   },
   "file_extension": ".py",
   "mimetype": "text/x-python",
   "name": "python",
   "nbconvert_exporter": "python",
   "pygments_lexer": "ipython3",
   "version": "3.13.5"
  }
 },
 "nbformat": 4,
 "nbformat_minor": 5
}

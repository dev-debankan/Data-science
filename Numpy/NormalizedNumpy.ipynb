{
 "cells": [
  {
   "cell_type": "code",
   "execution_count": 1,
   "id": "bfb48496-1d7b-4f48-a4d4-88f3291ab05a",
   "metadata": {},
   "outputs": [],
   "source": [
    "import numpy as np"
   ]
  },
  {
   "cell_type": "code",
   "execution_count": 4,
   "id": "bf74c0da-1f50-48c7-a1be-d1cef675c397",
   "metadata": {},
   "outputs": [
    {
     "name": "stdout",
     "output_type": "stream",
     "text": [
      "mean= [28.75 32.5  27.5 ]\n",
      "standerd deviation=  [16.7238602  14.79019946 11.45643924]\n",
      "normalized=  [[-1.12115264 -1.18321596 -0.65465367]\n",
      " [-0.8221786   0.16903085  0.21821789]\n",
      " [ 0.67269158 -0.50709255  1.52752523]\n",
      " [ 1.27063966  1.52127766 -1.09108945]]\n"
     ]
    }
   ],
   "source": [
    "data=np.array([[10,15,20],\n",
    "               [15,35,30],\n",
    "               [40,25,45],\n",
    "               [50,55,15]])\n",
    "mean=data.mean(axis=0)\n",
    "std_deviation=data.std(axis=0)\n",
    "print(\"mean=\" ,mean)\n",
    "\n",
    "print(\"standerd deviation= \",std_deviation)\n",
    "normalized=(data-mean)/std_deviation\n",
    "print(\"normalized= \",normalized)"
   ]
  }
 ],
 "metadata": {
  "kernelspec": {
   "display_name": "Python 3 (ipykernel)",
   "language": "python",
   "name": "python3"
  },
  "language_info": {
   "codemirror_mode": {
    "name": "ipython",
    "version": 3
   },
   "file_extension": ".py",
   "mimetype": "text/x-python",
   "name": "python",
   "nbconvert_exporter": "python",
   "pygments_lexer": "ipython3",
   "version": "3.13.5"
  }
 },
 "nbformat": 4,
 "nbformat_minor": 5
}

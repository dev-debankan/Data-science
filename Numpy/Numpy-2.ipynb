{
 "cells": [
  {
   "cell_type": "code",
   "execution_count": 1,
   "id": "16837215-1436-4e23-ac4a-8429917ca509",
   "metadata": {},
   "outputs": [],
   "source": [
    "import numpy as np"
   ]
  },
  {
   "cell_type": "code",
   "execution_count": 2,
   "id": "acfbe51d-2d32-49bc-a227-1767ecf95687",
   "metadata": {},
   "outputs": [
    {
     "name": "stdout",
     "output_type": "stream",
     "text": [
      "[[1 2 3]\n",
      " [4 5 6]\n",
      " [7 8 9]]\n"
     ]
    }
   ],
   "source": [
    "arr= np.array([[1,2,3],[4,5,6],[7,8,9]])\n",
    "print(arr)"
   ]
  },
  {
   "cell_type": "code",
   "execution_count": 3,
   "id": "d5d3ad44-69f9-495e-ab3c-2351618c5d23",
   "metadata": {},
   "outputs": [
    {
     "data": {
      "text/plain": [
       "array([1, 2, 3])"
      ]
     },
     "execution_count": 3,
     "metadata": {},
     "output_type": "execute_result"
    }
   ],
   "source": [
    "arr[0]"
   ]
  },
  {
   "cell_type": "code",
   "execution_count": 4,
   "id": "28176e1c-3508-47b6-84b0-35509506ed8e",
   "metadata": {},
   "outputs": [
    {
     "data": {
      "text/plain": [
       "array([4, 5, 6])"
      ]
     },
     "execution_count": 4,
     "metadata": {},
     "output_type": "execute_result"
    }
   ],
   "source": [
    "arr[1]"
   ]
  },
  {
   "cell_type": "markdown",
   "id": "d7cd212d-ecf5-4461-81d9-57368dc75b80",
   "metadata": {},
   "source": [
    "in 2d array axis=0 means row and axis=1 means coloumn "
   ]
  },
  {
   "cell_type": "markdown",
   "id": "017a35e7-f36f-413e-9ebc-57155156fe9b",
   "metadata": {},
   "source": [
    "in 1d array axis=1 means row \n",
    "and in 3d array axis=0 means depth, axis=1 means rows and axis=2 means coloumn "
   ]
  },
  {
   "cell_type": "code",
   "execution_count": 7,
   "id": "6d47f01d-eea6-40ad-a9e9-480de19261fb",
   "metadata": {},
   "outputs": [
    {
     "name": "stdout",
     "output_type": "stream",
     "text": [
      "[12 15 18]\n",
      "[ 6 15 24]\n"
     ]
    }
   ],
   "source": [
    "print(np.sum(arr,axis=0))#1+4+7\n",
    "print(np.sum(arr,axis=1))#1+2+3"
   ]
  },
  {
   "cell_type": "markdown",
   "id": "9059af69-a413-488c-8ec0-3be455d1d4dc",
   "metadata": {},
   "source": [
    "indexing in multidimensional array"
   ]
  },
  {
   "cell_type": "code",
   "execution_count": 11,
   "id": "00072d5c-ae8f-49e2-98ec-9c5763b69374",
   "metadata": {},
   "outputs": [
    {
     "name": "stdout",
     "output_type": "stream",
     "text": [
      "6\n"
     ]
    }
   ],
   "source": [
    "print(arr[1,2])#1 means 2nd row 2 means 3rd coloumn"
   ]
  },
  {
   "cell_type": "code",
   "execution_count": 12,
   "id": "aa133272-0f49-4dd8-acba-e316fe690d61",
   "metadata": {},
   "outputs": [
    {
     "data": {
      "text/plain": [
       "np.int64(3)"
      ]
     },
     "execution_count": 12,
     "metadata": {},
     "output_type": "execute_result"
    }
   ],
   "source": [
    "arr[0,2]"
   ]
  },
  {
   "cell_type": "markdown",
   "id": "0b810dd9-15ed-441f-b4eb-d3156744b8fe",
   "metadata": {},
   "source": [
    "another way of indexing "
   ]
  },
  {
   "cell_type": "code",
   "execution_count": 13,
   "id": "42c74a68-b375-4a53-bb6b-2a43e9e8f304",
   "metadata": {},
   "outputs": [
    {
     "data": {
      "text/plain": [
       "np.int64(5)"
      ]
     },
     "execution_count": 13,
     "metadata": {},
     "output_type": "execute_result"
    }
   ],
   "source": [
    "arr[1][1]"
   ]
  },
  {
   "cell_type": "code",
   "execution_count": 16,
   "id": "65cce41e-b784-41e0-b151-9edabf601164",
   "metadata": {},
   "outputs": [
    {
     "data": {
      "text/plain": [
       "array([[1, 2],\n",
       "       [4, 5]])"
      ]
     },
     "execution_count": 16,
     "metadata": {},
     "output_type": "execute_result"
    }
   ],
   "source": [
    "arr[0:2,0:2]#it will not include the last index so we can say it contains like- [0,2)"
   ]
  },
  {
   "cell_type": "markdown",
   "id": "036ae054-5c17-4165-a853-d4d4d55594b0",
   "metadata": {},
   "source": [
    "typecasting"
   ]
  },
  {
   "cell_type": "code",
   "execution_count": 19,
   "id": "7f9bc2d1-5165-414a-b4d0-7b07ffef02dc",
   "metadata": {},
   "outputs": [],
   "source": [
    "a1=np.array([1,2,34,64,7])\n"
   ]
  },
  {
   "cell_type": "code",
   "execution_count": 20,
   "id": "9422be33-3d7c-4311-82d6-77f5abfe2ae2",
   "metadata": {},
   "outputs": [
    {
     "data": {
      "text/plain": [
       "dtype('int64')"
      ]
     },
     "execution_count": 20,
     "metadata": {},
     "output_type": "execute_result"
    }
   ],
   "source": [
    "a1.dtype"
   ]
  },
  {
   "cell_type": "code",
   "execution_count": 23,
   "id": "dba7ad7b-af79-469d-8e85-b5c3b8f21e3c",
   "metadata": {},
   "outputs": [],
   "source": [
    "a2=a1.astype('float64')"
   ]
  },
  {
   "cell_type": "code",
   "execution_count": 24,
   "id": "320944eb-7244-4a2a-9c9f-411c8df2d076",
   "metadata": {},
   "outputs": [
    {
     "data": {
      "text/plain": [
       "dtype('float64')"
      ]
     },
     "execution_count": 24,
     "metadata": {},
     "output_type": "execute_result"
    }
   ],
   "source": [
    "a2.dtype"
   ]
  },
  {
   "cell_type": "code",
   "execution_count": 25,
   "id": "c20373e8-cfa9-4c65-b7dd-944d1e51edab",
   "metadata": {},
   "outputs": [
    {
     "data": {
      "text/plain": [
       "array([ 1.,  2., 34., 64.,  7.])"
      ]
     },
     "execution_count": 25,
     "metadata": {},
     "output_type": "execute_result"
    }
   ],
   "source": [
    "a2"
   ]
  },
  {
   "cell_type": "code",
   "execution_count": 29,
   "id": "f7ea4c2f-c475-4dc6-88b9-133f38289767",
   "metadata": {},
   "outputs": [
    {
     "data": {
      "text/plain": [
       "40"
      ]
     },
     "execution_count": 29,
     "metadata": {},
     "output_type": "execute_result"
    }
   ],
   "source": [
    "a2.nbytes#storage its taking "
   ]
  },
  {
   "cell_type": "code",
   "execution_count": 30,
   "id": "434bc1a5-5841-4aa4-8d03-75eff6047d59",
   "metadata": {},
   "outputs": [
    {
     "data": {
      "text/plain": [
       "72"
      ]
     },
     "execution_count": 30,
     "metadata": {},
     "output_type": "execute_result"
    }
   ],
   "source": [
    "arr.nbytes#storage its taking "
   ]
  },
  {
   "cell_type": "markdown",
   "id": "e86d3a22-9c58-4bed-9783-4e1987705396",
   "metadata": {},
   "source": [
    "complex numbers "
   ]
  },
  {
   "cell_type": "code",
   "execution_count": 33,
   "id": "9e0eecaf-58ae-457d-924c-20b7e5c5642f",
   "metadata": {},
   "outputs": [],
   "source": [
    "ar=np.array([1+2j,3+4j,6+34j], dtype='complex128')\n"
   ]
  },
  {
   "cell_type": "code",
   "execution_count": 34,
   "id": "28d89ceb-5088-4510-92c7-cc6f41bb8ac2",
   "metadata": {},
   "outputs": [
    {
     "data": {
      "text/plain": [
       "array([1. +2.j, 3. +4.j, 6.+34.j])"
      ]
     },
     "execution_count": 34,
     "metadata": {},
     "output_type": "execute_result"
    }
   ],
   "source": [
    "ar"
   ]
  },
  {
   "cell_type": "markdown",
   "id": "0834b84d-e5ff-4eeb-a85d-9e380c168b4a",
   "metadata": {},
   "source": [
    "Numpy Brodcasting"
   ]
  },
  {
   "cell_type": "markdown",
   "id": "a9160e8a-c150-4f89-bebc-d283aa2e1344",
   "metadata": {},
   "source": [
    "vectorized operation(vector is faster)"
   ]
  },
  {
   "cell_type": "code",
   "execution_count": 35,
   "id": "dbe4e6fa-ee28-4d36-aeb9-772df92b0a72",
   "metadata": {},
   "outputs": [],
   "source": [
    "a=np.array([12,3,4,6])\n",
    "result=a**2"
   ]
  },
  {
   "cell_type": "code",
   "execution_count": 36,
   "id": "437ad7e3-ae54-4ee6-84a2-74ff7d730837",
   "metadata": {},
   "outputs": [
    {
     "data": {
      "text/plain": [
       "array([144,   9,  16,  36])"
      ]
     },
     "execution_count": 36,
     "metadata": {},
     "output_type": "execute_result"
    }
   ],
   "source": [
    "result"
   ]
  },
  {
   "cell_type": "code",
   "execution_count": 37,
   "id": "b1def766-c2dc-4ab2-97aa-2cc38a69bd6a",
   "metadata": {},
   "outputs": [],
   "source": [
    "result=a*2"
   ]
  },
  {
   "cell_type": "code",
   "execution_count": 38,
   "id": "82571a45-b240-472b-aa8d-8d6435c7eaad",
   "metadata": {},
   "outputs": [
    {
     "data": {
      "text/plain": [
       "array([24,  6,  8, 12])"
      ]
     },
     "execution_count": 38,
     "metadata": {},
     "output_type": "execute_result"
    }
   ],
   "source": [
    "result"
   ]
  },
  {
   "cell_type": "code",
   "execution_count": 39,
   "id": "f97c1064-e015-4367-a1fb-dd3f2622b7fc",
   "metadata": {},
   "outputs": [
    {
     "data": {
      "text/plain": [
       "array([34, 16, 18, 22])"
      ]
     },
     "execution_count": 39,
     "metadata": {},
     "output_type": "execute_result"
    }
   ],
   "source": [
    "result+10"
   ]
  },
  {
   "cell_type": "markdown",
   "id": "810576d7-cf99-4612-bd9b-03721807d9ff",
   "metadata": {},
   "source": [
    "brodacsting a 2d array and 1d array"
   ]
  },
  {
   "cell_type": "code",
   "execution_count": 44,
   "id": "dcf6d5cb-b4c7-4a2c-8557-f044c20d0e4d",
   "metadata": {},
   "outputs": [
    {
     "name": "stdout",
     "output_type": "stream",
     "text": [
      "[[ 4  9 12]\n",
      " [ 7 12 15]]\n"
     ]
    }
   ],
   "source": [
    "b1=np.array([[1,2,3],[4,5,6]])\n",
    "b2=np.array([3,7,9])\n",
    "result= b1+b2\n",
    "print(result)"
   ]
  },
  {
   "cell_type": "code",
   "execution_count": 45,
   "id": "d13d1278-bc63-4bd5-a34d-7ddcb03cac1c",
   "metadata": {},
   "outputs": [
    {
     "name": "stdout",
     "output_type": "stream",
     "text": [
      "[[ 4  9 12]\n",
      " [ 7 12 15]]\n"
     ]
    }
   ],
   "source": [
    "result2=b2+b1\n",
    "print(result2)"
   ]
  },
  {
   "cell_type": "markdown",
   "id": "57931c39-6bb7-481c-a7e7-5d2c69d2ed18",
   "metadata": {},
   "source": [
    "Normalization = (data-mean)/standard deviation"
   ]
  },
  {
   "cell_type": "code",
   "execution_count": 47,
   "id": "5957f841-b0db-404a-93c3-faf29285ddd6",
   "metadata": {},
   "outputs": [
    {
     "name": "stdout",
     "output_type": "stream",
     "text": [
      "normalized=  [[-1.12115264 -1.18321596 -0.65465367]\n",
      " [-0.8221786   0.16903085  0.21821789]\n",
      " [ 0.67269158 -0.50709255  1.52752523]\n",
      " [ 1.27063966  1.52127766 -1.09108945]]\n"
     ]
    }
   ],
   "source": [
    "data=np.array([[10,15,20],\n",
    "               [15,35,30],\n",
    "               [40,25,45],\n",
    "               [50,55,15]])\n",
    "mean=data.mean(axis=0)\n",
    "std_deviation=data.std(axis=0)\n",
    "normalized=(data-mean)/std_deviation\n",
    "print(\"normalized= \",normalized)"
   ]
  }
 ],
 "metadata": {
  "kernelspec": {
   "display_name": "Python 3 (ipykernel)",
   "language": "python",
   "name": "python3"
  },
  "language_info": {
   "codemirror_mode": {
    "name": "ipython",
    "version": 3
   },
   "file_extension": ".py",
   "mimetype": "text/x-python",
   "name": "python",
   "nbconvert_exporter": "python",
   "pygments_lexer": "ipython3",
   "version": "3.13.5"
  }
 },
 "nbformat": 4,
 "nbformat_minor": 5
}

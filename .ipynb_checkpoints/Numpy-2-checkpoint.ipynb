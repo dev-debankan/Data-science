{
 "cells": [
  {
   "cell_type": "code",
   "execution_count": 1,
   "id": "16837215-1436-4e23-ac4a-8429917ca509",
   "metadata": {},
   "outputs": [],
   "source": [
    "import numpy as np"
   ]
  },
  {
   "cell_type": "code",
   "execution_count": 2,
   "id": "acfbe51d-2d32-49bc-a227-1767ecf95687",
   "metadata": {},
   "outputs": [
    {
     "name": "stdout",
     "output_type": "stream",
     "text": [
      "[[1 2 3]\n",
      " [4 5 6]\n",
      " [7 8 9]]\n"
     ]
    }
   ],
   "source": [
    "arr= np.array([[1,2,3],[4,5,6],[7,8,9]])\n",
    "print(arr)"
   ]
  },
  {
   "cell_type": "code",
   "execution_count": 3,
   "id": "d5d3ad44-69f9-495e-ab3c-2351618c5d23",
   "metadata": {},
   "outputs": [
    {
     "data": {
      "text/plain": [
       "array([1, 2, 3])"
      ]
     },
     "execution_count": 3,
     "metadata": {},
     "output_type": "execute_result"
    }
   ],
   "source": [
    "arr[0]"
   ]
  },
  {
   "cell_type": "code",
   "execution_count": 4,
   "id": "28176e1c-3508-47b6-84b0-35509506ed8e",
   "metadata": {},
   "outputs": [
    {
     "data": {
      "text/plain": [
       "array([4, 5, 6])"
      ]
     },
     "execution_count": 4,
     "metadata": {},
     "output_type": "execute_result"
    }
   ],
   "source": [
    "arr[1]"
   ]
  },
  {
   "cell_type": "markdown",
   "id": "d7cd212d-ecf5-4461-81d9-57368dc75b80",
   "metadata": {},
   "source": [
    "in 2d array axis=0 means row and axis=1 means coloumn "
   ]
  },
  {
   "cell_type": "markdown",
   "id": "017a35e7-f36f-413e-9ebc-57155156fe9b",
   "metadata": {},
   "source": [
    "in 1d array axis=1 means row \n",
    "and in 3d array axis=0 means depth, axis=1 means rows and axis=2 means coloumn "
   ]
  },
  {
   "cell_type": "code",
   "execution_count": 7,
   "id": "6d47f01d-eea6-40ad-a9e9-480de19261fb",
   "metadata": {},
   "outputs": [
    {
     "name": "stdout",
     "output_type": "stream",
     "text": [
      "[12 15 18]\n",
      "[ 6 15 24]\n"
     ]
    }
   ],
   "source": [
    "print(np.sum(arr,axis=0))#1+4+7\n",
    "print(np.sum(arr,axis=1))#1+2+3"
   ]
  },
  {
   "cell_type": "markdown",
   "id": "9059af69-a413-488c-8ec0-3be455d1d4dc",
   "metadata": {},
   "source": [
    "indexing in multidimensional array"
   ]
  },
  {
   "cell_type": "code",
   "execution_count": 11,
   "id": "00072d5c-ae8f-49e2-98ec-9c5763b69374",
   "metadata": {},
   "outputs": [
    {
     "name": "stdout",
     "output_type": "stream",
     "text": [
      "6\n"
     ]
    }
   ],
   "source": [
    "print(arr[1,2])#1 means 2nd row 2 means 3rd coloumn"
   ]
  },
  {
   "cell_type": "code",
   "execution_count": 12,
   "id": "aa133272-0f49-4dd8-acba-e316fe690d61",
   "metadata": {},
   "outputs": [
    {
     "data": {
      "text/plain": [
       "np.int64(3)"
      ]
     },
     "execution_count": 12,
     "metadata": {},
     "output_type": "execute_result"
    }
   ],
   "source": [
    "arr[0,2]"
   ]
  },
  {
   "cell_type": "markdown",
   "id": "0b810dd9-15ed-441f-b4eb-d3156744b8fe",
   "metadata": {},
   "source": [
    "another way of indexing "
   ]
  },
  {
   "cell_type": "code",
   "execution_count": 13,
   "id": "42c74a68-b375-4a53-bb6b-2a43e9e8f304",
   "metadata": {},
   "outputs": [
    {
     "data": {
      "text/plain": [
       "np.int64(5)"
      ]
     },
     "execution_count": 13,
     "metadata": {},
     "output_type": "execute_result"
    }
   ],
   "source": [
    "arr[1][1]"
   ]
  },
  {
   "cell_type": "code",
   "execution_count": 15,
   "id": "65cce41e-b784-41e0-b151-9edabf601164",
   "metadata": {},
   "outputs": [
    {
     "data": {
      "text/plain": [
       "array([[1, 2],\n",
       "       [4, 5]])"
      ]
     },
     "execution_count": 15,
     "metadata": {},
     "output_type": "execute_result"
    }
   ],
   "source": [
    "arr[0:2,0:2]#it will not include the last index so we can say it contains like- [0,2)"
   ]
  }
 ],
 "metadata": {
  "kernelspec": {
   "display_name": "Python 3 (ipykernel)",
   "language": "python",
   "name": "python3"
  },
  "language_info": {
   "codemirror_mode": {
    "name": "ipython",
    "version": 3
   },
   "file_extension": ".py",
   "mimetype": "text/x-python",
   "name": "python",
   "nbconvert_exporter": "python",
   "pygments_lexer": "ipython3",
   "version": "3.13.5"
  }
 },
 "nbformat": 4,
 "nbformat_minor": 5
}

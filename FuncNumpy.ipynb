{
 "cells": [
  {
   "cell_type": "code",
   "execution_count": 1,
   "id": "0dbb3f33-d922-45fb-b7a1-097e404c27bd",
   "metadata": {},
   "outputs": [],
   "source": [
    "import numpy as np"
   ]
  },
  {
   "cell_type": "code",
   "execution_count": 2,
   "id": "6169c4fc-04f4-43d2-9baa-2ecd282bfde0",
   "metadata": {},
   "outputs": [],
   "source": [
    "arr= np.array([1,4,7,6])"
   ]
  },
  {
   "cell_type": "code",
   "execution_count": 3,
   "id": "d5972717-bbdc-4df9-94a3-0e9798174665",
   "metadata": {},
   "outputs": [
    {
     "data": {
      "text/plain": [
       "np.float64(4.5)"
      ]
     },
     "execution_count": 3,
     "metadata": {},
     "output_type": "execute_result"
    }
   ],
   "source": [
    "np.mean(arr)"
   ]
  },
  {
   "cell_type": "code",
   "execution_count": 4,
   "id": "6529ba45-bb44-4ae0-be06-facbf5bebd1f",
   "metadata": {},
   "outputs": [
    {
     "data": {
      "text/plain": [
       "np.int64(7)"
      ]
     },
     "execution_count": 4,
     "metadata": {},
     "output_type": "execute_result"
    }
   ],
   "source": [
    "np.max(arr)"
   ]
  },
  {
   "cell_type": "code",
   "execution_count": 5,
   "id": "b4745ea1-2ff9-4db2-a00b-65fa8db0ed56",
   "metadata": {},
   "outputs": [
    {
     "data": {
      "text/plain": [
       "np.int64(1)"
      ]
     },
     "execution_count": 5,
     "metadata": {},
     "output_type": "execute_result"
    }
   ],
   "source": [
    "np.min(arr)"
   ]
  },
  {
   "cell_type": "code",
   "execution_count": 6,
   "id": "00070577-70c9-4c02-a7e7-450c527e2380",
   "metadata": {},
   "outputs": [
    {
     "data": {
      "text/plain": [
       "np.float64(2.29128784747792)"
      ]
     },
     "execution_count": 6,
     "metadata": {},
     "output_type": "execute_result"
    }
   ],
   "source": [
    "np.std(arr)#standard deviation"
   ]
  },
  {
   "cell_type": "code",
   "execution_count": 7,
   "id": "80f788cc-a499-4b02-b240-6dff617286f2",
   "metadata": {},
   "outputs": [
    {
     "data": {
      "text/plain": [
       "np.float64(5.25)"
      ]
     },
     "execution_count": 7,
     "metadata": {},
     "output_type": "execute_result"
    }
   ],
   "source": [
    "np.var(arr)#varience"
   ]
  },
  {
   "cell_type": "code",
   "execution_count": 8,
   "id": "5f152397-1795-4579-8b80-30d4ac351c52",
   "metadata": {},
   "outputs": [
    {
     "data": {
      "text/plain": [
       "np.int64(18)"
      ]
     },
     "execution_count": 8,
     "metadata": {},
     "output_type": "execute_result"
    }
   ],
   "source": [
    "np.sum(arr)"
   ]
  },
  {
   "cell_type": "code",
   "execution_count": 10,
   "id": "e2cdd893-aea9-45f5-99cc-503611e87ef5",
   "metadata": {},
   "outputs": [
    {
     "data": {
      "text/plain": [
       "np.int64(168)"
      ]
     },
     "execution_count": 10,
     "metadata": {},
     "output_type": "execute_result"
    }
   ],
   "source": [
    "np.prod(arr)#this is for product of all numbers "
   ]
  },
  {
   "cell_type": "code",
   "execution_count": 12,
   "id": "f0eb43bf-6713-457c-af75-3b9f71405560",
   "metadata": {},
   "outputs": [
    {
     "data": {
      "text/plain": [
       "np.float64(5.0)"
      ]
     },
     "execution_count": 12,
     "metadata": {},
     "output_type": "execute_result"
    }
   ],
   "source": [
    "np.median(arr)"
   ]
  },
  {
   "cell_type": "code",
   "execution_count": 14,
   "id": "18e754f6-27b9-4591-9912-c18981ee93c3",
   "metadata": {},
   "outputs": [
    {
     "data": {
      "text/plain": [
       "np.float64(7.0)"
      ]
     },
     "execution_count": 14,
     "metadata": {},
     "output_type": "execute_result"
    }
   ],
   "source": [
    "np.percentile(arr,100)"
   ]
  },
  {
   "cell_type": "code",
   "execution_count": 15,
   "id": "85d5fc73-27ef-4d07-ab67-90c265cfbb54",
   "metadata": {},
   "outputs": [
    {
     "data": {
      "text/plain": [
       "np.int64(0)"
      ]
     },
     "execution_count": 15,
     "metadata": {},
     "output_type": "execute_result"
    }
   ],
   "source": [
    "np.argmin(arr)#return index of minimum number"
   ]
  },
  {
   "cell_type": "code",
   "execution_count": 16,
   "id": "e9d4c516-9bba-45d1-a301-e14cafa82001",
   "metadata": {},
   "outputs": [
    {
     "data": {
      "text/plain": [
       "np.int64(2)"
      ]
     },
     "execution_count": 16,
     "metadata": {},
     "output_type": "execute_result"
    }
   ],
   "source": [
    "np.argmax(arr)#return index of maximum number "
   ]
  },
  {
   "cell_type": "code",
   "execution_count": 17,
   "id": "c779ea82-586d-499c-a142-4fd6643a6030",
   "metadata": {},
   "outputs": [
    {
     "data": {
      "text/plain": [
       "np.float64(1.0)"
      ]
     },
     "execution_count": 17,
     "metadata": {},
     "output_type": "execute_result"
    }
   ],
   "source": [
    "np.corrcoef(arr)#for correlation coeficient"
   ]
  },
  {
   "cell_type": "code",
   "execution_count": 18,
   "id": "9a224c57-b0d3-4e65-8103-65481253fa05",
   "metadata": {},
   "outputs": [
    {
     "data": {
      "text/plain": [
       "array([1, 4, 6, 7])"
      ]
     },
     "execution_count": 18,
     "metadata": {},
     "output_type": "execute_result"
    }
   ],
   "source": [
    "np.unique(arr)#for unique element"
   ]
  },
  {
   "cell_type": "code",
   "execution_count": 20,
   "id": "5e88a1f4-fc6f-41d0-8c1b-e04f9b0d0488",
   "metadata": {},
   "outputs": [
    {
     "data": {
      "text/plain": [
       "array([ 1,  5, 12, 18])"
      ]
     },
     "execution_count": 20,
     "metadata": {},
     "output_type": "execute_result"
    }
   ],
   "source": [
    "np.cumsum(arr)#for cumulative sum"
   ]
  },
  {
   "cell_type": "code",
   "execution_count": 21,
   "id": "7c012373-1182-489d-a314-77063409f403",
   "metadata": {},
   "outputs": [
    {
     "data": {
      "text/plain": [
       "array([ 3,  3, -1])"
      ]
     },
     "execution_count": 21,
     "metadata": {},
     "output_type": "execute_result"
    }
   ],
   "source": [
    "np.diff(arr)#compute the n-th difference"
   ]
  },
  {
   "cell_type": "code",
   "execution_count": 23,
   "id": "52c2bf2c-ad0e-475f-b9cf-3911582c308a",
   "metadata": {},
   "outputs": [
    {
     "data": {
      "text/plain": [
       "array([ 0.,  5., 10., 15.])"
      ]
     },
     "execution_count": 23,
     "metadata": {},
     "output_type": "execute_result"
    }
   ],
   "source": [
    "np.linspace(0,15,4)#evenly spaced numbebrs"
   ]
  },
  {
   "cell_type": "code",
   "execution_count": 25,
   "id": "7c11eb5a-531f-46a9-96f3-413193c561a2",
   "metadata": {},
   "outputs": [
    {
     "data": {
      "text/plain": [
       "array([   2.71828183,   54.59815003, 1096.63315843,  403.42879349])"
      ]
     },
     "execution_count": 25,
     "metadata": {},
     "output_type": "execute_result"
    }
   ],
   "source": [
    "np.exp(arr)#compute exponential of an array"
   ]
  }
 ],
 "metadata": {
  "kernelspec": {
   "display_name": "Python 3 (ipykernel)",
   "language": "python",
   "name": "python3"
  },
  "language_info": {
   "codemirror_mode": {
    "name": "ipython",
    "version": 3
   },
   "file_extension": ".py",
   "mimetype": "text/x-python",
   "name": "python",
   "nbconvert_exporter": "python",
   "pygments_lexer": "ipython3",
   "version": "3.13.5"
  }
 },
 "nbformat": 4,
 "nbformat_minor": 5
}
